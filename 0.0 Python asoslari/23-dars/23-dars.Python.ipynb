{
 "cells": [
  {
   "cell_type": "markdown",
   "metadata": {},
   "source": [
    "# **Fayllar bilan ishlash**"
   ]
  },
  {
   "cell_type": "markdown",
   "metadata": {},
   "source": [
    "#### **`open()` - fayllarni ochish**"
   ]
  },
  {
   "cell_type": "markdown",
   "metadata": {},
   "source": [
    "open() python da fayllar bilan ishlashning asosiy funksiyasi hisoblanadi.\n",
    "\n",
    "open() funksiya ikkita parametrni oladi; fayl nomi va rejimi\n",
    "\n",
    "Faylni ochishning to'rt xil usuli (rejimi) mavjud:"
   ]
  },
  {
   "cell_type": "markdown",
   "metadata": {},
   "source": [
    "* **\"r\"- O'qish (read)** - Standart qiymat. Faylni o'qish uchun ochadi, agar fayl mavjud bo'lmasa xato qaytaradi\n",
    "\n",
    "* **\"a\"- Qo'shish (append)** - faylga matn qo'shish uchun ochadi, agar u mavjud bo'lmasa uni yaratadi\n",
    "\n",
    "* **\"w\"- Yozish (write)** - faylni yozish uchun ochadi, agar u mavjud bo'lmasa uni yaratadi\n",
    "\n",
    "* **\"x\"- Yaratish** - Belgilangan faylni yaratadi, agar fayl mavjud bo'lsa xatoni qaytaradi"
   ]
  },
  {
   "cell_type": "code",
   "execution_count": 19,
   "metadata": {},
   "outputs": [],
   "source": [
    "file = open(\"AI.txt\", \"r\")"
   ]
  },
  {
   "cell_type": "markdown",
   "metadata": {},
   "source": [
    "#### **`read(n)` - fayldagi ma'lumotlarni o'qish**"
   ]
  },
  {
   "cell_type": "code",
   "execution_count": 5,
   "metadata": {},
   "outputs": [
    {
     "data": {
      "text/plain": [
       "'equire human intelligence. Examples include recognizing speech, understanding language, making decisions, and even playing games.\\n\\nAI works by using algorithms, which are sets of rules or instructions that a computer follows to solve problems. These algorithms allow AI systems to process large amounts of data, learn from it, and make predictions or decisions based on that information.\\n\\nThere are different types of AI. One type is called narrow AI, which is designed to perform a specific task, like recognizing faces in photos or recommending movies. Another type is general AI, which aims to perform any intellectual task that a human can do. However, general AI is still in the research stage and not yet a reality.\\n\\nAI is used in many areas of our lives. For instance, virtual assistants like Siri and Alexa use AI to understand and respond to our questions. AI is also used in healthcare to help doctors diagnose diseases and recommend treatments. In addition, businesses use AI to improve customer service, manage inventory, and even detect fraud.\\n\\nWhile AI offers many benefits, it also raises important questions and concerns. One concern is about jobs, as some fear that AI could replace human workers in certain fields. There are also ethical issues, such as ensuring that AI systems are fair and do not discriminate against people.\\n\\nIn conclusion, AI is a powerful technology that has the potential to transform many aspects of our lives. As it continues to develop, it is important to consider both its advantages and the challenges it presents.\\n\\n\\n\\n\\n'"
      ]
     },
     "execution_count": 5,
     "metadata": {},
     "output_type": "execute_result"
    }
   ],
   "source": [
    "file.read()"
   ]
  },
  {
   "cell_type": "markdown",
   "metadata": {},
   "source": [
    "#### **`readline()` - fayldagi ma'lumotlarni qatorma-qator o'qish**"
   ]
  },
  {
   "cell_type": "code",
   "execution_count": 12,
   "metadata": {},
   "outputs": [
    {
     "data": {
      "text/plain": [
       "'AI works by using algorithms, which are sets of rules or instructions that a computer follows to solve problems. These algorithms allow AI systems to process large amounts of data, learn from it, and make predictions or decisions based on that information.\\n'"
      ]
     },
     "execution_count": 12,
     "metadata": {},
     "output_type": "execute_result"
    }
   ],
   "source": [
    "file.readline()"
   ]
  },
  {
   "cell_type": "markdown",
   "metadata": {},
   "source": [
    "#### **`readlines()` - barcha qatorlarni o'qish**"
   ]
  },
  {
   "cell_type": "code",
   "execution_count": 18,
   "metadata": {},
   "outputs": [
    {
     "data": {
      "text/plain": [
       "['Artificial intelligence, or AI, is a technology that allows machines to learn and perform tasks that usually require human intelligence. Examples include recognizing speech, understanding language, making decisions, and even playing games.\\n',\n",
       " '\\n',\n",
       " 'AI works by using algorithms, which are sets of rules or instructions that a computer follows to solve problems. These algorithms allow AI systems to process large amounts of data, learn from it, and make predictions or decisions based on that information.\\n',\n",
       " '\\n',\n",
       " 'There are different types of AI. One type is called narrow AI, which is designed to perform a specific task, like recognizing faces in photos or recommending movies. Another type is general AI, which aims to perform any intellectual task that a human can do. However, general AI is still in the research stage and not yet a reality.\\n',\n",
       " 'AI is used in many areas of our lives. For instance, virtual assistants like Siri and Alexa use AI to understand and respond to our questions. AI is also used in healthcare to help doctors diagnose diseases and recommend treatments. In addition, businesses use AI to improve customer service, manage inventory, and even detect fraud.\\n',\n",
       " 'While AI offers many benefits, it also raises important questions and concerns. One concern is about jobs, as some fear that AI could replace human workers in certain fields. There are also ethical issues, such as ensuring that AI systems are fair and do not discriminate against people.\\n',\n",
       " 'In conclusion, AI is a powerful technology that has the potential to transform many aspects of our lives. As it continues to develop, it is important to consider both its advantages and the challenges it presents.']"
      ]
     },
     "execution_count": 18,
     "metadata": {},
     "output_type": "execute_result"
    }
   ],
   "source": [
    "file.readlines()"
   ]
  },
  {
   "cell_type": "markdown",
   "metadata": {},
   "source": [
    "#### **`close()` - faylni yopish**"
   ]
  },
  {
   "cell_type": "code",
   "execution_count": 20,
   "metadata": {},
   "outputs": [],
   "source": [
    "file.close()"
   ]
  },
  {
   "cell_type": "markdown",
   "metadata": {},
   "source": [
    "#### **`write()` - faylga yozish**"
   ]
  },
  {
   "cell_type": "code",
   "execution_count": 29,
   "metadata": {},
   "outputs": [],
   "source": [
    "file = open('AI.txt', 'a')"
   ]
  },
  {
   "cell_type": "code",
   "execution_count": 30,
   "metadata": {},
   "outputs": [
    {
     "data": {
      "text/plain": [
       "45"
      ]
     },
     "execution_count": 30,
     "metadata": {},
     "output_type": "execute_result"
    }
   ],
   "source": [
    "file.write('Bu matnni Python kodi yordamida faylga yozdik')"
   ]
  },
  {
   "cell_type": "markdown",
   "metadata": {},
   "source": [
    "> **fayl 'a (append)' tarzida ochilib**, unga matn yozilsa, mavjud matnning oxiriga matn qo'shiladi\n",
    "\n",
    "> **fayl 'w (write)'** tarzida ochilib, unga matn yozilsa, mavjud matn o'chiriladi va faqat yangi yozilgan matn qoladi"
   ]
  },
  {
   "cell_type": "markdown",
   "metadata": {},
   "source": [
    "#### **yangi fayl yaratish**"
   ]
  },
  {
   "cell_type": "code",
   "execution_count": 31,
   "metadata": {},
   "outputs": [],
   "source": [
    "file = open('Talabalar.txt', 'x')"
   ]
  },
  {
   "cell_type": "code",
   "execution_count": 32,
   "metadata": {},
   "outputs": [
    {
     "data": {
      "text/plain": [
       "34"
      ]
     },
     "execution_count": 32,
     "metadata": {},
     "output_type": "execute_result"
    }
   ],
   "source": [
    "file.write(\"O'quvchilarimiz bugun negadir sust\")"
   ]
  },
  {
   "cell_type": "code",
   "execution_count": 33,
   "metadata": {},
   "outputs": [],
   "source": [
    "file.close()"
   ]
  },
  {
   "cell_type": "markdown",
   "metadata": {},
   "source": [
    "#### **`remove()` - fayllarni o'chirish**"
   ]
  },
  {
   "cell_type": "code",
   "execution_count": 35,
   "metadata": {},
   "outputs": [],
   "source": [
    "import os\n",
    "\n",
    "file_path = 'Talabalar.txt'\n",
    "\n",
    "if os.path.exists(file_path):\n",
    "    os.remove(file_path)"
   ]
  },
  {
   "cell_type": "markdown",
   "metadata": {},
   "source": [
    "#### **`rmdir()` - papkalarni o'chirish**"
   ]
  },
  {
   "cell_type": "markdown",
   "metadata": {},
   "source": [
    "faqatgina bo'm-bo'sh papkalarnigina o'chira olamiz"
   ]
  },
  {
   "cell_type": "code",
   "execution_count": null,
   "metadata": {},
   "outputs": [],
   "source": [
    "import os\n",
    "\n",
    "#remove directory (papka)\n",
    "os.rmdir('keraksiz')"
   ]
  },
  {
   "cell_type": "markdown",
   "metadata": {},
   "source": [
    "### **`with` keyword**"
   ]
  },
  {
   "cell_type": "code",
   "execution_count": 40,
   "metadata": {},
   "outputs": [],
   "source": [
    "#file = open('C://ismlar.txt', 'a')\n",
    "with open('C://ismlar.txt', 'a') as file:\n",
    "    ismlar = ['Ravshan', 'Hasan', 'Husan', 'Bobomurod']\n",
    "    \n",
    "    for ism in ismlar:\n",
    "        file.write(f'\\n{ism}')\n",
    "\n",
    "    file.close()"
   ]
  },
  {
   "cell_type": "code",
   "execution_count": 44,
   "metadata": {},
   "outputs": [
    {
     "name": "stdout",
     "output_type": "stream",
     "text": [
      "ALGORITM 8\n",
      "TUIT 4\n",
      "UZ 2\n"
     ]
    }
   ],
   "source": [
    "s = input()\n",
    "sozlar = s.split()\n",
    "\n",
    "for soz in sozlar:\n",
    "    print(soz, len(soz))"
   ]
  },
  {
   "cell_type": "code",
   "execution_count": null,
   "metadata": {},
   "outputs": [],
   "source": [
    "s = input()\n",
    "l, r = list(map(int, input().split()))\n",
    "\n",
    "if l < r:\n",
    "    print(s[l-1:r])\n",
    "elif l > r:\n",
    "    x = s[r-1:l] \n",
    "    for i in range(len(x)-1, -1, -1):\n",
    "        print(x[i], end='')\n",
    "else:\n",
    "    print(s[l-1])   "
   ]
  }
 ],
 "metadata": {
  "kernelspec": {
   "display_name": "base",
   "language": "python",
   "name": "python3"
  },
  "language_info": {
   "codemirror_mode": {
    "name": "ipython",
    "version": 3
   },
   "file_extension": ".py",
   "mimetype": "text/x-python",
   "name": "python",
   "nbconvert_exporter": "python",
   "pygments_lexer": "ipython3",
   "version": "3.11.7"
  }
 },
 "nbformat": 4,
 "nbformat_minor": 2
}
