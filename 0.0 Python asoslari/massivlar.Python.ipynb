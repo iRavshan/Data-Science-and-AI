{
 "cells": [
  {
   "cell_type": "markdown",
   "metadata": {},
   "source": [
    "# **Massivlarga doir masalalar ishlash**"
   ]
  },
  {
   "cell_type": "code",
   "execution_count": null,
   "metadata": {},
   "outputs": [],
   "source": [
    "#101 - masala\n",
    "n = int(input())\n",
    "\n",
    "a = list(map(int, input().split()))\n",
    "\n",
    "\n",
    "ortacha = sum(a) / len(a)\n",
    "\n",
    "for item in a:\n",
    "    if not item < ortacha:\n",
    "        a.remove(item)\n",
    "\n",
    "ortacha = sum(a) / len(a)\n",
    "\n",
    "print(f'{ortacha:.2f}')"
   ]
  },
  {
   "cell_type": "code",
   "execution_count": null,
   "metadata": {},
   "outputs": [],
   "source": [
    "#103-masala\n",
    "n = int(input())\n",
    "\n",
    "a = list(map(int, input().split()))\n",
    "\n",
    "k, l = list(map(int, input().split()))\n",
    "\n",
    "ortacha = sum(a[k-1:l]) / (l-k+1)\n",
    "\n",
    "print(f'{ortacha:.1f}')"
   ]
  },
  {
   "cell_type": "code",
   "execution_count": null,
   "metadata": {},
   "outputs": [],
   "source": [
    "#106-masala\n",
    "n = int(input())\n",
    "a = list(map(int, input().split()))\n",
    "\n",
    "s = 0\n",
    "\n",
    "for item in a:\n",
    "    s += item ** 2\n",
    "\n",
    "print(s)"
   ]
  },
  {
   "cell_type": "code",
   "execution_count": null,
   "metadata": {},
   "outputs": [],
   "source": [
    "#108-masala\n",
    "n = int(input())\n",
    "a = list(map(int, input().split()))\n",
    "\n",
    "kichik = min(a)\n",
    "\n",
    "for item in a:\n",
    "    print(f'{(item / kichik):.2f}', end=' ')"
   ]
  },
  {
   "cell_type": "code",
   "execution_count": 19,
   "metadata": {},
   "outputs": [
    {
     "name": "stdout",
     "output_type": "stream",
     "text": [
      "51.00\n"
     ]
    }
   ],
   "source": [
    "#118-masala\n",
    "n = int(input())\n",
    "a = list(map(int, input().split()))\n",
    "\n",
    "sum = 0\n",
    "counter = 0\n",
    "\n",
    "for item in a:\n",
    "    if item % 2 != 0:\n",
    "        sum += item\n",
    "        counter += 1\n",
    "\n",
    "ortacha = sum / counter\n",
    "\n",
    "print(f'{ortacha:.2f}')"
   ]
  },
  {
   "cell_type": "code",
   "execution_count": null,
   "metadata": {},
   "outputs": [],
   "source": []
  }
 ],
 "metadata": {
  "kernelspec": {
   "display_name": "base",
   "language": "python",
   "name": "python3"
  },
  "language_info": {
   "codemirror_mode": {
    "name": "ipython",
    "version": 3
   },
   "file_extension": ".py",
   "mimetype": "text/x-python",
   "name": "python",
   "nbconvert_exporter": "python",
   "pygments_lexer": "ipython3",
   "version": "3.11.7"
  }
 },
 "nbformat": 4,
 "nbformat_minor": 2
}
