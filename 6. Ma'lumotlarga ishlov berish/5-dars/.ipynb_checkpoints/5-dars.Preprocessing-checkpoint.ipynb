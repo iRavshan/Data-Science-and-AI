{
 "cells": [
  {
   "cell_type": "markdown",
   "metadata": {
    "id": "3Y4ibTJRnTcX"
   },
   "source": [
    "# **Notabiiy qiymatlar bilan ishlash**"
   ]
  },
  {
   "cell_type": "markdown",
   "metadata": {
    "id": "q9qf_xL4nTcY"
   },
   "source": [
    "Jadvalimizda notabiiy qiymatlar mavjud yoki mavjud emasligini har bir ustun uchun tekshiramiz. Notabiiy qiymatlarga ega qatorlarni esa tashlab yuboramiz"
   ]
  },
  {
   "cell_type": "code",
   "execution_count": 37,
   "metadata": {},
   "outputs": [],
   "source": [
    "import pandas as pd\n",
    "import numpy as np"
   ]
  },
  {
   "cell_type": "code",
   "execution_count": 30,
   "metadata": {
    "colab": {
     "base_uri": "https://localhost:8080/",
     "height": 330
    },
    "executionInfo": {
     "elapsed": 439,
     "status": "ok",
     "timestamp": 1717946943230,
     "user": {
      "displayName": "Ravshan Sodiqov",
      "userId": "01663377716946400735"
     },
     "user_tz": -300
    },
    "id": "kvBQoXpAnTcY",
    "outputId": "7c746131-73d8-47b7-90a4-9688244c926b"
   },
   "outputs": [],
   "source": [
    "df = pd.read_csv('https://raw.githubusercontent.com/iRavshan/pro_data_scientist/main/datasets/study_performance.csv')"
   ]
  }
 ],
 "metadata": {
  "colab": {
   "provenance": []
  },
  "kernelspec": {
   "display_name": "Python 3 (ipykernel)",
   "language": "python",
   "name": "python3"
  },
  "language_info": {
   "codemirror_mode": {
    "name": "ipython",
    "version": 3
   },
   "file_extension": ".py",
   "mimetype": "text/x-python",
   "name": "python",
   "nbconvert_exporter": "python",
   "pygments_lexer": "ipython3",
   "version": "3.11.7"
  }
 },
 "nbformat": 4,
 "nbformat_minor": 1
}
