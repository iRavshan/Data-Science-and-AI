{
 "cells": [
  {
   "cell_type": "markdown",
   "id": "59691d0d",
   "metadata": {},
   "source": [
    "# Ma'lumotlar to'plamlarini birlashtirish"
   ]
  },
  {
   "cell_type": "markdown",
   "id": "b9596346",
   "metadata": {},
   "source": [
    "### `Merging` -  "
   ]
  },
  {
   "cell_type": "code",
   "execution_count": null,
   "id": "97c4348b",
   "metadata": {},
   "outputs": [],
   "source": [
    "person = {\n",
    "    'personId': [1, 2],\n",
    "    'lastName': ['Wang', 'Alice'],\n",
    "    'firstName': ['Allen', 'Bob']\n",
    "}"
   ]
  }
 ],
 "metadata": {
  "kernelspec": {
   "display_name": "Python 3 (ipykernel)",
   "language": "python",
   "name": "python3"
  },
  "language_info": {
   "codemirror_mode": {
    "name": "ipython",
    "version": 3
   },
   "file_extension": ".py",
   "mimetype": "text/x-python",
   "name": "python",
   "nbconvert_exporter": "python",
   "pygments_lexer": "ipython3",
   "version": "3.11.7"
  }
 },
 "nbformat": 4,
 "nbformat_minor": 5
}
